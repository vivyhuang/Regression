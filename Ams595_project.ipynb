{
 "cells": [
  {
   "cell_type": "code",
   "execution_count": 5,
   "id": "57fa45e2",
   "metadata": {},
   "outputs": [],
   "source": [
    "import pandas as pd\n",
    "import mglearn\n",
    "import random\n",
    "import numpy as np\n",
    "\n"
   ]
  },
  {
   "cell_type": "markdown",
   "id": "e499d189",
   "metadata": {},
   "source": [
    "# Train-Test Split Function\n",
    "The `train_test_split` function is responsible for splitting the dataset into training and test sets.\n",
    "\n",
    "- $X$: Input features (matrix).\n",
    "- $y$: Target values (vector).\n",
    "- $test\\_size$: Proportion of the dataset to include in the test split.\n",
    "- $random\\_state$: Seed for the random number generator, ensuring reproducibility."
   ]
  },
  {
   "cell_type": "code",
   "execution_count": 6,
   "id": "c90cb837",
   "metadata": {},
   "outputs": [],
   "source": [
    "def train_test_split(X, y, test_size=0.25, random_state=None):\n",
    "    \n",
    "    # Set random seed for reproducibility if random_state is provided\n",
    "    if random_state is not None:\n",
    "        np.random.seed(random_state)\n",
    "        \n",
    "        \n",
    "    # Get the total number of samples\n",
    "    n_samples = len(X)\n",
    "    \n",
    "    \n",
    "    # Create an array of indices and shuffle them\n",
    "    indices = np.arange(n_samples)\n",
    "    np.random.shuffle(indices)\n",
    "\n",
    "    # Determine the number of samples for the test set\n",
    "    if isinstance(test_size, float):\n",
    "        test_size = int(test_size * n_samples)\n",
    "        \n",
    "        \n",
    "    # Extract indices for the test and training sets\n",
    "    test_indices = indices[:test_size]\n",
    "    train_indices = indices[test_size:]\n",
    "    \n",
    "    \n",
    "    # Use indices to split the data into training and testing sets\n",
    "    X_train, X_test = X[train_indices], X[test_indices]\n",
    "    y_train, y_test = y[train_indices], y[test_indices]\n",
    "\n",
    "    return X_train, X_test, y_train, y_test\n"
   ]
  },
  {
   "cell_type": "markdown",
   "id": "6148020b",
   "metadata": {},
   "source": [
    "# Linear Regression Functions\n",
    "\n",
    "\n",
    "## Coefficient calculation formula\n",
    "The coefficients for linear regression are obtained using the normal equation:\n",
    "$$\n",
    "\\text{coefficients} = (X_{\\text{ext}}^T X_{\\text{ext}})^{-1} X_{\\text{ext}}^T y\n",
    "$$\n",
    "\n",
    "## Linear Regression Prediction formula\n",
    "The prediction for linear regression is given by:\n",
    "$$\n",
    "y_{\\text{pred}} = X_{\\text{ext}} \\cdot \\text{coefficients}\n",
    "$$\n",
    "\n",
    "\n",
    "## Fitting Linear Regression\n",
    "The `fit_linear_regression` function calculates the coefficients for linear regression using the normal equation.\n",
    "\n",
    "- $X$: Input features.\n",
    "- $y$: Target values.\n",
    "- $X_{\\text{ext}}$: Extended feature matrix with an added column of ones for the intercept term.\n",
    "- $\\text{coefficients}$: Coefficients for the intercept and features.\n",
    "\n",
    "## Prediction\n",
    "The `predict` function predicts target values based on input features and coefficients.\n",
    "\n",
    "- $X$: Input features.\n",
    "- $X_{\\text{ext}}$: Extended feature matrix.\n",
    "- $\\text{coefficients}$: Coefficients obtained from linear regression.\n",
    "- $y_{\\text{pred}}$: Predicted target values."
   ]
  },
  {
   "cell_type": "code",
   "execution_count": 7,
   "id": "4d44c913",
   "metadata": {},
   "outputs": [],
   "source": [
    "def fit_linear_regression(X, y):\n",
    "    \n",
    "    # Add a column of ones to X for the intercept term\n",
    "    X_ext = np.column_stack((np.ones(len(X)), X))\n",
    "    \n",
    "    # Calculate coefficients using the normal equation\n",
    "    coefficients = np.dot(np.dot(np.linalg.pinv(np.dot(X_ext.T, X_ext)), X_ext.T), y)\n",
    "    \n",
    "    return coefficients\n",
    "\n",
    "def predict(X, coefficients):\n",
    "    \n",
    "    \n",
    "    # Add a column of ones to X for the intercept term\n",
    "    X_ext = np.column_stack((np.ones(len(X)), X))\n",
    "    \n",
    "    # Calculate predicted target values using dot product\n",
    "    y_pred = np.dot(X_ext, coefficients)\n",
    "    \n",
    "    return y_pred\n",
    "    "
   ]
  },
  {
   "cell_type": "markdown",
   "id": "97a9ee30",
   "metadata": {},
   "source": [
    "## Mean Squared Error (MSE) formula\n",
    "The Mean Squared Error (MSE) is calculated as follows:\n",
    "$$\n",
    "MSE = \\frac{1}{n} \\sum_{i=1}^{n} (y_{\\text{true},i} - y_{\\text{pred},i})^2\n",
    "$$\n",
    "\n",
    "\n",
    "\n",
    "## Mean Squared Error Calculation\n",
    "The `mean_squared_error` function calculates the mean squared error between true and predicted values.\n",
    "\n",
    "- $y_{\\text{true}}$: True target values.\n",
    "- $y_{\\text{pred}}$: Predicted target values.\n",
    "- $\\text{mse}$: Mean squared error."
   ]
  },
  {
   "cell_type": "code",
   "execution_count": 8,
   "id": "09a48cfe",
   "metadata": {},
   "outputs": [],
   "source": [
    "\n",
    "\n",
    "def mean_squared_error(y_true, y_pred):\n",
    "    \n",
    "    \n",
    "    # Ensure that the input arrays have the same length\n",
    "    if len(y_true) != len(y_pred):\n",
    "        raise ValueError(\"Input arrays must have the same length.\")\n",
    "\n",
    "    # Calculate squared differences\n",
    "    squared_diff = [(true - pred) ** 2 for true, pred in zip(y_true, y_pred)]\n",
    "\n",
    "    # Calculate mean squared error\n",
    "    mse = sum(squared_diff) / len(y_true)\n",
    "\n",
    "    return mse"
   ]
  },
  {
   "cell_type": "code",
   "execution_count": 9,
   "id": "12aebf50",
   "metadata": {},
   "outputs": [],
   "source": [
    "# Load the extended Boston Housing dataset\n",
    "X, y = mglearn.datasets.load_extended_boston()\n",
    "\n",
    "# Split the data into training and test sets\n",
    "X_train, X_test, y_train, y_test = train_test_split(X, y, test_size=0.2, random_state=42)\n",
    "\n",
    "\n",
    "\n",
    "\n",
    "# Fit the linear regression model on the training set\n",
    "coefficients = fit_linear_regression(X_train, y_train)\n",
    "\n",
    "# Make predictions on the training set\n",
    "y_train_pred = predict(X_train, coefficients)\n",
    "\n",
    "# Make predictions on the test set\n",
    "y_pred = predict(X_test, coefficients)\n",
    "\n",
    "\n",
    "# Calculate Mean Squared Error (MSE) on the test set\n",
    "mse_test = mean_squared_error(y_test, y_pred)\n",
    "\n",
    "\n",
    "# Calculate Mean Squared Error (MSE) on the training set\n",
    "mse_train = mean_squared_error(y_train, y_train_pred)\n"
   ]
  },
  {
   "cell_type": "code",
   "execution_count": 10,
   "id": "693ea51d",
   "metadata": {},
   "outputs": [
    {
     "name": "stdout",
     "output_type": "stream",
     "text": [
      "Mean Squared Error on Training Set: 5.119969179921958\n",
      "Mean Squared Error on Test Set: 14.329434192452062\n"
     ]
    }
   ],
   "source": [
    "print(\"Mean Squared Error on Training Set:\", mse_train)\n",
    "print(\"Mean Squared Error on Test Set:\", mse_test)"
   ]
  },
  {
   "cell_type": "code",
   "execution_count": null,
   "id": "e300363a",
   "metadata": {},
   "outputs": [],
   "source": []
  },
  {
   "cell_type": "markdown",
   "id": "0a0ed4cc",
   "metadata": {},
   "source": [
    "## Mean Squared Error (MSE) on Training Set\n",
    "The Mean Squared Error on the training set is calculated as:\n",
    "$$\n",
    "MSE_{\\text{train}} = 5.119969179921958\n",
    "$$\n",
    "\n",
    "## Mean Squared Error (MSE) on Test Set\n",
    "The Mean Squared Error on the test set is calculated as:\n",
    "$$\n",
    "MSE_{\\text{test}} = 14.329434192452062\n",
    "$$\n"
   ]
  },
  {
   "cell_type": "code",
   "execution_count": null,
   "id": "b9e5327a",
   "metadata": {},
   "outputs": [],
   "source": []
  }
 ],
 "metadata": {
  "kernelspec": {
   "display_name": "Python 3 (ipykernel)",
   "language": "python",
   "name": "python3"
  },
  "language_info": {
   "codemirror_mode": {
    "name": "ipython",
    "version": 3
   },
   "file_extension": ".py",
   "mimetype": "text/x-python",
   "name": "python",
   "nbconvert_exporter": "python",
   "pygments_lexer": "ipython3",
   "version": "3.11.5"
  }
 },
 "nbformat": 4,
 "nbformat_minor": 5
}
